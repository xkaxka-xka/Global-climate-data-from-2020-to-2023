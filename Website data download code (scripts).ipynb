{
 "cells": [
  {
   "cell_type": "code",
   "execution_count": 1,
   "id": "075ea6a1",
   "metadata": {
    "scrolled": true
   },
   "outputs": [
    {
     "ename": "ModuleNotFoundError",
     "evalue": "No module named 'selenium'",
     "output_type": "error",
     "traceback": [
      "\u001b[1;31m---------------------------------------------------------------------------\u001b[0m",
      "\u001b[1;31mModuleNotFoundError\u001b[0m                       Traceback (most recent call last)",
      "Cell \u001b[1;32mIn[1], line 3\u001b[0m\n\u001b[0;32m      1\u001b[0m \u001b[38;5;66;03m#蔬菜合格和农药不合格文件下载\u001b[39;00m\n\u001b[0;32m      2\u001b[0m \u001b[38;5;28;01mimport\u001b[39;00m \u001b[38;5;21;01mtime\u001b[39;00m\n\u001b[1;32m----> 3\u001b[0m \u001b[38;5;28;01mfrom\u001b[39;00m \u001b[38;5;21;01mselenium\u001b[39;00m\u001b[38;5;21;01m.\u001b[39;00m\u001b[38;5;21;01mwebdriver\u001b[39;00m\u001b[38;5;21;01m.\u001b[39;00m\u001b[38;5;21;01mcommon\u001b[39;00m\u001b[38;5;21;01m.\u001b[39;00m\u001b[38;5;21;01mby\u001b[39;00m \u001b[38;5;28;01mimport\u001b[39;00m By\n\u001b[0;32m      4\u001b[0m \u001b[38;5;28;01mfrom\u001b[39;00m \u001b[38;5;21;01mselenium\u001b[39;00m \u001b[38;5;28;01mimport\u001b[39;00m webdriver\n\u001b[0;32m      5\u001b[0m \u001b[38;5;28;01mimport\u001b[39;00m \u001b[38;5;21;01mrequests\u001b[39;00m\n",
      "\u001b[1;31mModuleNotFoundError\u001b[0m: No module named 'selenium'"
     ]
    }
   ],
   "source": [
    "#蔬菜合格和农药不合格文件下载\n",
    "import time\n",
    "from selenium.webdriver.common.by import By\n",
    "from selenium import webdriver\n",
    "import requests\n",
    "from __future__ import division\n",
    "import sys\n",
    "#调用显示进程的类\n",
    "from tqdm import tqdm\n",
    "from yeardays import genenrateYearDays #必须的包\n",
    "from IPython.display import clear_output as clear\n",
    "\n",
    "\n",
    "#开始登陆\n",
    "#输入账号密码\n",
    "driver = webdriver.Chrome()\n",
    "driver.implicitly_wait(5)\n",
    "driver.get(\"url\")\n",
    "user_input = driver.find_element(By.ID, \"username\")\n",
    "user_input.send_keys('XX')\n",
    "time.sleep(1)\n",
    "user_input = driver.find_element(By.ID, \"password\")\n",
    "user_input.send_keys('XX')\n",
    "time.sleep(1)\n",
    "login=driver.find_element(By.XPATH, \"/html/body/div/div/div[2]/div[2]/form/div[4]/input\").click()\n",
    "time.sleep(3)\n",
    "\n",
    "#切换新窗口用以下载文件\n",
    "newwindow = 'window.open(\"https://hao.360.com\")'\n",
    "driver.execute_script(newwindow)\n",
    "driver.switch_to.window(driver.window_handles[1])\n",
    "\n",
    "\n",
    "#合格和不合格产品链接下载\n",
    "'''\n",
    "http://......\n",
    "\n",
    "\n",
    "'''\n",
    "a_list = [568,569,570,571,572,573,574,575,576,577,578,579,580,581,582,153,154,155,156,157]\n",
    "\n",
    "for itm in tqdm(a_list):\n",
    "    for i in tqdm(range(2015, 2025)):\n",
    "        #这里设置需要爬取哪些年份的数据\n",
    "        list_days = genenrateYearDays(i)\n",
    "        for date in tqdm(list_days):\n",
    "            downloadlink=\"http://......\"+date+\"......\"+date+\".....\"+str(itm)+\"......\"\n",
    "            driver.get(downloadlink)\n",
    "\n"
   ]
  },
  {
   "cell_type": "code",
   "execution_count": 1,
   "id": "bfaec0f7",
   "metadata": {
    "scrolled": true
   },
   "outputs": [
    {
     "name": "stderr",
     "output_type": "stream",
     "text": [
      "100%|██████████| 36274/36274 [01:24<00:00, 426.94it/s]\n"
     ]
    }
   ],
   "source": [
    "import pandas as pd\n",
    "import os\n",
    "import re\n",
    "from tqdm import tqdm\n",
    "\n",
    "folder_path = \"D:/\" #文件夹\n",
    "excel_files = [f for f in os.listdir(folder_path)]\n",
    "\n",
    "data_frames = []\n",
    "\n",
    "dfs = []\n",
    "for file in tqdm(excel_files):\n",
    "    file_path = os.path.join(folder_path, file)\n",
    "    df = pd.read_excel(file_path)\n",
    "    data_frames.append(df)\n",
    "\n",
    "\n",
    "combined_df = pd.concat(data_frames, ignore_index = True)\n",
    "\n",
    "\n",
    "\n",
    "def clean_illegal_excel_chars(value):\n",
    "    if isinstance(value, str):\n",
    "        # 移除 Unicode 中 Excel 不支持的控制字符（0x00 到 0x1F，除了 \\t, \\n, \\r）\n",
    "        value = re.sub(r'[\\x00-\\x08\\x0B\\x0C\\x0E-\\x1F]', '', value)\n",
    "        # 可选：移除其他可疑字符（如乱码、特殊不可见字符）\n",
    "        value = re.sub(r'[^\\x00-\\x7F]+', '', value)\n",
    "    return value\n",
    "\n",
    "combined_df['措施'] = combined_df['措施'].apply(clean_illegal_excel_chars)\n",
    "combined_df['检验项目'] = combined_df['检验项目'].apply(clean_illegal_excel_chars)\n",
    "\n",
    "\n",
    "\n",
    "max_rows = 1000000\n",
    "for i in range(0, len(combined_df), max_rows):\n",
    "    chunk = combined_df.iloc[i:i+max_rows]\n",
    "    chunk.to_excel(f\"Veget_Data_2_part{i//max_rows + 1}.xlsx\", index=False)\n",
    "\n",
    "\n",
    "# print('done')"
   ]
  },
  {
   "cell_type": "code",
   "execution_count": null,
   "id": "1b827cb4",
   "metadata": {},
   "outputs": [],
   "source": []
  }
 ],
 "metadata": {
  "kernelspec": {
   "display_name": "Python 3 (ipykernel)",
   "language": "python",
   "name": "python3"
  },
  "language_info": {
   "codemirror_mode": {
    "name": "ipython",
    "version": 3
   },
   "file_extension": ".py",
   "mimetype": "text/x-python",
   "name": "python",
   "nbconvert_exporter": "python",
   "pygments_lexer": "ipython3",
   "version": "3.12.7"
  }
 },
 "nbformat": 4,
 "nbformat_minor": 5
}
