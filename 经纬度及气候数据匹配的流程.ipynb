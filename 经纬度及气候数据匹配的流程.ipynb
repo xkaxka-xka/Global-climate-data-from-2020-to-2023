{
 "cells": [
  {
   "cell_type": "markdown",
   "id": "238ff21c",
   "metadata": {},
   "source": [
    "# 城市经纬度匹配"
   ]
  },
  {
   "cell_type": "code",
   "execution_count": 1,
   "id": "886990a8-a772-49d5-88e1-d64f3f8cc593",
   "metadata": {},
   "outputs": [],
   "source": [
    "from tqdm import tqdm #查看循环进度\n",
    "import numpy as np\n",
    "import pandas as pd"
   ]
  },
  {
   "cell_type": "code",
   "execution_count": 2,
   "id": "425094da-5a0a-4160-a2a5-e7f887f70004",
   "metadata": {},
   "outputs": [
    {
     "name": "stderr",
     "output_type": "stream",
     "text": [
      "C:\\Users\\XuanW\\AppData\\Local\\Temp\\ipykernel_20400\\3436361257.py:2: DtypeWarning: Columns (22,25) have mixed types. Specify dtype option on import or set low_memory=False.\n",
      "  p_data = pd.read_csv('2015To2023ShuiChanData.csv')\n"
     ]
    }
   ],
   "source": [
    "#导入经纬度数据和原始数据\n",
    "p_data = pd.read_csv('E:/ShuiChanProcessed/orign_data/2015To2023ShuiChanData.csv')\n",
    "LaAndLog = pd.read_excel('E:/ShuiChanProcessed/orign_data/经纬度.xlsx')"
   ]
  },
  {
   "cell_type": "code",
   "execution_count": 3,
   "id": "7b9c716c",
   "metadata": {},
   "outputs": [
    {
     "data": {
      "text/plain": [
       "Index(['通报单位', '地级市', '经度', '纬度'], dtype='object')"
      ]
     },
     "execution_count": 3,
     "metadata": {},
     "output_type": "execute_result"
    }
   ],
   "source": [
    "LaAndLog.columns"
   ]
  },
  {
   "cell_type": "code",
   "execution_count": 4,
   "id": "898209be-1c9e-4223-a0d0-6c9c19b78ebb",
   "metadata": {},
   "outputs": [
    {
     "data": {
      "text/plain": [
       "抽检级别\n",
       "市抽    281708\n",
       "省抽    254712\n",
       "国抽     56759\n",
       "Name: count, dtype: int64"
      ]
     },
     "execution_count": 4,
     "metadata": {},
     "output_type": "execute_result"
    }
   ],
   "source": [
    "p_data['抽检级别'].value_counts()"
   ]
  },
  {
   "cell_type": "code",
   "execution_count": 5,
   "id": "a78ee33e-a3d9-4dfb-8e32-07e5c4e9ccd4",
   "metadata": {},
   "outputs": [],
   "source": [
    "# 筛选市抽的数据\n",
    "new_data = p_data[p_data['抽检级别'] == '市抽']"
   ]
  },
  {
   "cell_type": "code",
   "execution_count": 6,
   "id": "31a42bfe-ed7a-4b40-aedb-074c91c0749c",
   "metadata": {},
   "outputs": [],
   "source": [
    "#根据城市匹配经纬度数据\n",
    "merged_df = pd.merge(new_data, LaAndLog[['通报单位', '经度', '纬度']], on='通报单位', how='left')"
   ]
  },
  {
   "cell_type": "code",
   "execution_count": 7,
   "id": "92754102-33ec-4e36-8512-89e4538c2a97",
   "metadata": {},
   "outputs": [
    {
     "data": {
      "text/plain": [
       "Series([], Name: count, dtype: int64)"
      ]
     },
     "execution_count": 7,
     "metadata": {},
     "output_type": "execute_result"
    }
   ],
   "source": [
    "#查看是否有缺失经纬度的城市\n",
    "filtered_df = merged_df[merged_df['经度'].isna()]\n",
    "filtered_df['通报单位'].value_counts()"
   ]
  },
  {
   "cell_type": "code",
   "execution_count": 8,
   "id": "34436a2e",
   "metadata": {},
   "outputs": [
    {
     "data": {
      "text/plain": [
       "通报单位\n",
       "广州市场监管局    16762\n",
       "郑州市场监管局     1441\n",
       "深圳市场监管局     1259\n",
       "沈阳市场监管局     1112\n",
       "苏州市场监管局      768\n",
       "           ...  \n",
       "晋城市场监管局        1\n",
       "南通市场监管局        1\n",
       "天水市场监管局        1\n",
       "鹤壁市场监管局        1\n",
       "阜阳市场监管局        1\n",
       "Name: count, Length: 186, dtype: int64"
      ]
     },
     "execution_count": 8,
     "metadata": {},
     "output_type": "execute_result"
    }
   ],
   "source": [
    "#查看是否有生产日期缺失的数据\n",
    "filtered_df = merged_df[merged_df['生产日期'].isna()]\n",
    "filtered_df['通报单位'].value_counts()"
   ]
  },
  {
   "cell_type": "code",
   "execution_count": 9,
   "id": "18f6aa12-83d9-4e47-af6d-61914ba35509",
   "metadata": {},
   "outputs": [],
   "source": [
    "#用通报时间填补缺失的生产日期\n",
    "merged_df['生产日期'] = merged_df['生产日期'].fillna(p_data['通报时间'])\n",
    "#这一步不一定这样处理，怎样处理数据的缺失值可以和老师讨论"
   ]
  },
  {
   "cell_type": "code",
   "execution_count": 10,
   "id": "7f8f99e8-e56c-47f5-a67c-f6f61567bd6e",
   "metadata": {},
   "outputs": [
    {
     "data": {
      "text/plain": [
       "0          2019/9/20\n",
       "1          2019/9/20\n",
       "2          2019/8/15\n",
       "3          2019/9/21\n",
       "4          2019/9/21\n",
       "             ...    \n",
       "281703    2023/11/25\n",
       "281704    2023/11/18\n",
       "281705     2023/2/15\n",
       "281706    2023/11/13\n",
       "281707    2023/10/15\n",
       "Name: 生产日期, Length: 281708, dtype: object"
      ]
     },
     "execution_count": 10,
     "metadata": {},
     "output_type": "execute_result"
    }
   ],
   "source": [
    "merged_df['生产日期']"
   ]
  },
  {
   "cell_type": "code",
   "execution_count": 11,
   "id": "1651d3f0-022a-4bdd-a0a2-8e7a2d01edcd",
   "metadata": {},
   "outputs": [],
   "source": [
    "# 保存中间数据，也可以不保存接着在一个notebook里继续处理，但最好保存一下\n",
    "merged_df.to_csv('selectedShuichanWithLA.csv', index=False, encoding = 'utf_8_sig')"
   ]
  },
  {
   "cell_type": "markdown",
   "id": "b9d4ed16",
   "metadata": {},
   "source": [
    "# 城市天气数据匹配"
   ]
  },
  {
   "cell_type": "code",
   "execution_count": 2,
   "id": "d45aa69c-31b3-4bb5-af82-f6970a3e5ef0",
   "metadata": {},
   "outputs": [],
   "source": [
    "from tqdm import tqdm #查看循环进度\n",
    "import numpy as np\n",
    "import pandas as pd\n",
    "\n",
    "# 导入数据\n",
    "data_file = r'D:\\SHUICHAN\\20250405\\city_match.xlsx'  # 假设文件名为 'monitoring_data.xlsx'\n",
    "p_data = pd.read_excel(data_file)\n",
    "data_file2 = r'D:\\SHUICHAN\\20250405\\climate_data\\2020-2023-select.xlsx'\n",
    "c_data = pd.read_excel(data_file2)"
   ]
  },
  {
   "cell_type": "code",
   "execution_count": 3,
   "id": "a833ee68",
   "metadata": {},
   "outputs": [],
   "source": [
    "# 转换时间格式，保证格式统一\n",
    "p_data['通报时间'] = pd.to_datetime(p_data['通报时间'])\n",
    "c_data['DATE'] = pd.to_datetime(c_data['DATE'])\n",
    "#选取天气数据中需要的数据列\n",
    "cm_data = c_data[['DATE', 'STATION', 'NAME', 'LATITUDE', 'LONGITUDE', 'DEWP', 'TEMP', 'PRCP', 'WDSP', 'MAX', 'MIN']]"
   ]
  },
  {
   "cell_type": "code",
   "execution_count": 4,
   "id": "c72ada41",
   "metadata": {},
   "outputs": [
    {
     "name": "stderr",
     "output_type": "stream",
     "text": [
      "100%|█████████████████████████████████████████████████████████████████████████| 216276/216276 [18:13<00:00, 197.74it/s]\n"
     ]
    }
   ],
   "source": [
    "# 在抽检数据中添加存储气候数据的列，并初始化\n",
    "p_data['temp'] = np.nan\n",
    "p_data['prcp'] = np.nan\n",
    "p_data['dewp'] = np.nan\n",
    "p_data['wdsp'] = np.nan\n",
    "p_data['max'] = np.nan\n",
    "p_data['min'] = np.nan\n",
    "\n",
    "# 对于每个鸡肉生产条目\n",
    "for i in tqdm(p_data.index):\n",
    "    produce_date = p_data.at[i, '通报时间']\n",
    "    city_longitude = p_data.at[i, '经度']\n",
    "    city_latitude = p_data.at[i, '纬度']\n",
    "\n",
    "    # 过滤相同日期的气候数据\n",
    "    same_date_climate = cm_data[cm_data['DATE'] == produce_date]\n",
    "    # 计算距离并筛选\n",
    "    '''\n",
    "    distances = (same_date_climate['LONGITUDE'] - city_longitude)**2 + (same_date_climate['LATITUDE'] - city_latitude)**2\n",
    "    close_enough = distances[distances <= 32].index  # 获取符合条件的索引 \n",
    "    '''\n",
    "    distances = (same_date_climate['LONGITUDE'] - city_longitude)**2 + (same_date_climate['LATITUDE'] - city_latitude)**2\n",
    "    close_enough = distances[distances <= 32].index  # 获取符合条件的索引\n",
    "\n",
    "    # 计算加权温度和降水\n",
    "    if not close_enough.empty:\n",
    "        weights = 1 / distances[close_enough]\n",
    "        temp_weighted = same_date_climate.loc[close_enough, 'TEMP'] * weights\n",
    "        prcp_weighted = same_date_climate.loc[close_enough, 'PRCP'] * weights\n",
    "        dewp_weighted = same_date_climate.loc[close_enough, 'DEWP'] * weights\n",
    "        wdsp_weighted = same_date_climate.loc[close_enough, 'WDSP'] * weights\n",
    "        max_weighted = same_date_climate.loc[close_enough, 'MAX'] * weights\n",
    "        min_weighted = same_date_climate.loc[close_enough, 'MIN'] * weights\n",
    "\n",
    "        # 存储加权平均结果\n",
    "        p_data.at[i, 'temp'] = (temp_weighted.sum() / weights.sum())\n",
    "        p_data.at[i, 'prcp'] = (prcp_weighted.sum() / weights.sum())\n",
    "        p_data.at[i, 'dewp'] = (dewp_weighted.sum() / weights.sum())\n",
    "        p_data.at[i, 'wdsp'] = (wdsp_weighted.sum() / weights.sum()) \n",
    "        p_data.at[i, 'max'] = (wdsp_weighted.sum() / weights.sum())\n",
    "        p_data.at[i, 'min'] = (wdsp_weighted.sum() / weights.sum())"
   ]
  },
  {
   "cell_type": "code",
   "execution_count": 9,
   "id": "3e40f79d",
   "metadata": {},
   "outputs": [],
   "source": [
    "import math\n",
    "\n",
    "p_data['temp_c'] = (p_data['temp'] - 32) / 1.8\n",
    "p_data['dewp_c'] = (p_data['dewp'] - 32) / 1.8\n",
    "\n",
    "# 定义计算相对湿度的函数\n",
    "def cal_hum(row):\n",
    "    dry_bulb_temp = row['temp_c']\n",
    "    dew_point_temp = row['dewp_c']\n",
    "    \n",
    "    # 定义饱和水蒸气压力的公式\n",
    "    def saturation_vapor_pressure(temp_c):\n",
    "        return 6.112 * math.exp((17.67 * temp_c) / (temp_c + 243.5))\n",
    "    \n",
    "    # 计算干球温度和露点温度下的水蒸气压力\n",
    "    e_t = saturation_vapor_pressure(dry_bulb_temp)\n",
    "    e_td = saturation_vapor_pressure(dew_point_temp)\n",
    "    \n",
    "    # 计算相对湿度\n",
    "    relative_humidity = (e_td / e_t) * 100\n",
    "    return relative_humidity\n",
    "\n",
    "\n",
    "p_data['relative_humidity'] = p_data.apply(cal_hum, axis=1)\n",
    "\n",
    "\n",
    "p_data['max_c'] = (p_data['max'] - 32) / 1.8\n",
    "p_data['min_c'] = (p_data['min'] - 32) / 1.8"
   ]
  },
  {
   "cell_type": "code",
   "execution_count": 10,
   "id": "1a41a8cc",
   "metadata": {},
   "outputs": [
    {
     "data": {
      "text/plain": [
       "产品分类                      0\n",
       "产品名称                      0\n",
       "分类                        0\n",
       "判定结果                      0\n",
       "不合格项目分类              206442\n",
       "不合格项目                206445\n",
       "不合格规范列               206437\n",
       "检测数值                 206638\n",
       "法规限制                 207198\n",
       "规格型号                   4760\n",
       "商标                   131662\n",
       "生产日期                      0\n",
       "年                         0\n",
       "月                         0\n",
       "日                         0\n",
       "生产企业名称                 3425\n",
       "生产企业地址                 2602\n",
       "生产省份                      0\n",
       "抽样单位名称                  636\n",
       "抽样单位地址                22935\n",
       "抽样单位省份                    0\n",
       "通报时间                      0\n",
       "通报文号                      0\n",
       "通报单位                      0\n",
       "地级市                       0\n",
       "通报省份                      0\n",
       "抽检环节                      0\n",
       "是否属于网抽                    0\n",
       "经度                        0\n",
       "纬度                        0\n",
       "temp                      0\n",
       "prcp                      0\n",
       "dewp                      0\n",
       "wdsp                      0\n",
       "max                       0\n",
       "min                       0\n",
       "relative_humidity         0\n",
       "temp_c                    0\n",
       "max_c                     0\n",
       "min_c                     0\n",
       "dewp_c                    0\n",
       "dtype: int64"
      ]
     },
     "execution_count": 10,
     "metadata": {},
     "output_type": "execute_result"
    }
   ],
   "source": [
    "# 统计数据中的缺失\n",
    "nan_counts = p_data.isna().sum()\n",
    "nan_counts"
   ]
  },
  {
   "cell_type": "code",
   "execution_count": 11,
   "id": "0810050b",
   "metadata": {},
   "outputs": [],
   "source": [
    "output_file = r'D:\\SHUICHAN\\20250405\\climate_match.xlsx'\n",
    "p_data.to_excel(output_file, index=False)"
   ]
  },
  {
   "cell_type": "code",
   "execution_count": null,
   "id": "d842b460",
   "metadata": {},
   "outputs": [],
   "source": []
  }
 ],
 "metadata": {
  "kernelspec": {
   "display_name": "Python 3 (ipykernel)",
   "language": "python",
   "name": "python3"
  },
  "language_info": {
   "codemirror_mode": {
    "name": "ipython",
    "version": 3
   },
   "file_extension": ".py",
   "mimetype": "text/x-python",
   "name": "python",
   "nbconvert_exporter": "python",
   "pygments_lexer": "ipython3",
   "version": "3.12.7"
  }
 },
 "nbformat": 4,
 "nbformat_minor": 5
}
